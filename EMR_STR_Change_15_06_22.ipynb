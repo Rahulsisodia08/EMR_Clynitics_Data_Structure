{
 "cells": [
  {
   "cell_type": "markdown",
   "id": "413e2bfb",
   "metadata": {},
   "source": [
    "## EMR to Clynitics structure change\n"
   ]
  },
  {
   "cell_type": "code",
   "execution_count": 1,
   "id": "90b9d119",
   "metadata": {},
   "outputs": [],
   "source": [
    "# Loading libraries\n",
    "import pandas as pd\n",
    "import numpy as np\n",
    "\n",
    "# Setting to see maximum columns and rows \n",
    "pd.set_option('display.max_columns', None)\n",
    "pd.set_option('display.max_rows', None)\n",
    "\n",
    "# To ignore warnings\n",
    "import warnings\n",
    "warnings.filterwarnings('ignore') \n"
   ]
  },
  {
   "cell_type": "markdown",
   "id": "723a6259",
   "metadata": {},
   "source": [
    "## Complaints data"
   ]
  },
  {
   "cell_type": "code",
   "execution_count": 5,
   "id": "78150694",
   "metadata": {},
   "outputs": [],
   "source": [
    "# Loading complaints EMR data\n",
    "complaint=pd.read_csv('complaint_raw.csv')\n",
    "\n",
    "# copy the data\n",
    "complaint1=complaint.copy()\n",
    "#rename columns name\n",
    "complaint1.rename(columns={'value':'raw_complaint','source':'account_id','date':'result_date'},inplace=True)\n",
    "# columns names\n",
    "#print(complaint1.columns.tolist())\n",
    "\n",
    "# Unpivoting\n",
    "melted=pd.melt(complaint1, id_vars=['patient_id','result_date','raw_complaint','account_id'], value_vars=['Diabetes', 'pulmonary veno-occlusive disease', \n",
    "                                                                                               'Frequent Urination', 'Shortness Of Breath', 'Fatty Liver', 'left ventricular dysfunction', 'Paroxysmal nocturnal dyspnea', \n",
    "                                                                                               'Upper respiratory tract infection', 'new york heart association', 'Stroke', 'Subclinical Hypothyroidism', \n",
    "                                                                                               'left anterior descending', 'Delayed Wound Healing', 'Pain In Left Iliac Fossa', 'acute coronary syndrome', \n",
    "                                                                                               'cardio-vascular disease', 'Uti', 'Difficulty In Breathing', 'Dyslipidemia', 'coronary heart disease', \n",
    "                                                                                               'dilated cardiomyopathy', 'Dizziness', 'Pain In Right Shoulder', 'Fever', 'Pain In Left Shoulder', \n",
    "                                                                                               'Cervical Spondylosis', 'Cervicogenic Vertigo', 'Gestational Diabetes', 'aortic regurgitation', 'Vitamin deficiency', \n",
    "                                                                                               'Abdominal Distension', 'Heaviness In Abdomen', 'Stomach Ache', 'Unsatisfactory Bowel', 'Allergic Bronchitis', \n",
    "                                                                                               'coronary thrombosis', 'ischemic chest pain', 'Retinopathy', 'Burning Micturition', 'Hoarseness Of Voice', \n",
    "                                                                                               'Hyperglycaemia', 'Allergic Rhinitis', 'Neuropathy', 'Burning Sensation', 'Burning Sensation Leg', 'Decrease In Sleep', \n",
    "                                                                                               'Heaviness In Head', 'Irregular Periods', 'Loss Of Sensation', 'Throat Congestion', 'Throat Irritation', \n",
    "                                                                                               'Acute Bronchitis', 'chest discomfort', 'Myocardial Infarction', 'Dryness Of Mouth', 'Loss Appetite', 'Nasal Congestion',\n",
    "                                                                                               'Polydipsia', 'Acute Enteritis', 'Hypothyroidism', 'ischaemic heart', 'Blood In Sputum', 'Disturbed Sleep', \n",
    "                                                                                                'Nasal Discharge', 'Hormone imbalance', 'Hyperthyroidism', 'cardiac arrest', 'ischemic heart', 'Nephropathy', \n",
    "                                                                                               'Panic Reaction', 'Blurred Vision', 'Breathlessness', 'Nasal blockage', 'Pain In Throat', 'Vulvar Itching', \n",
    "                                                                                               'Weight Gain', 'Weight Loss', 'Heart Problem', 'coronary arte', 'heart failure', 'Viral Fever', 'Cough', 'Expectoration',\n",
    "                                                                                               'Fatigue', 'Loss Of Sleep', 'Muscular Pain', 'Shoulder Pain', 'Eosinophilia', 'Hypertension', 'atherosclero', \n",
    "                                                                                               'heart attack', 'Pancreatitis', 'Pancytopenia', 'Pedal oedema', 'Toxic Goitre', 'Loose Motion', 'Panic attack', \n",
    "                                                                                               'Restlessness', 'Running Nose', 'Acid reflux disease', 'Inflamation of thyroid gland', 'heart disea', 'hypertrophy', \n",
    "                                                                                               'Indigestion', 'Leg Pain', 'Muscle Pain', 'Nervousness', 'Palpitations', 'Suffocation', 'Watery Eyes', 'Depression', \n",
    "                                                                                               'chest pain', 'Pre Diabetic', 'Congestion', 'Eye problem', 'Polyphagia', 'Diarrhoea', 'Pregnancy', 'Back Pain', \n",
    "                                                                                               'Bodyache', 'Dyspepsia', 'Dysphagia', 'Giddiness', 'Hair Fall', 'Knee Pain', 'Anorexia', 'angiopla', 'Bleeding', \n",
    "                                                                                               'Bloating', 'Constipation', 'Headache', 'Ployuria', 'Polyurea', 'Sneezing', 'Sweating', 'Tingling', 'Weakness', \n",
    "                                                                                               'Wheezing', 'Allergy', 'Anxiety', 'Chikungunya', 'Hypoglycemia', 'Obesity', 'Vertigo', 'Acidity', 'Dryness', 'Dysuria',\n",
    "                                                                                               'Itching', 'Muscle pain', 'Anemia', 'Dengue', 'angina', 'T1Dm', 'Asthma', 'Chills', 'Nausea', 'Rashes', 'Stress', \n",
    "                                                                                               'Tremors', 'Wheeze', 'stent', 'Gerd', 'cabg', 'ptca', 'Pcos', 'Acne', 'Cold', 'Numbness', 'Pain', 'cad', 'cag', 'cvd', 'ihd', 'Gastric'])\n",
    "\n",
    "\n",
    "# Removing zeros from columns values\n",
    "df=melted[melted['value']!=0]\n",
    "\n",
    "\n",
    "# Adding columns\n",
    "df['prescription_id']=\"\"\n",
    "df['name']=\"\"\n",
    "df['remark']=\"\"\n",
    "df['doctor_id']=\"\"\n",
    "#df['account_id']=\"\"\n",
    "df['level1']=\"\"\n",
    "df['result_date']=\"\"\n",
    "df['complaint_id']=\"\"\n"
   ]
  },
  {
   "cell_type": "code",
   "execution_count": 9,
   "id": "1e949565",
   "metadata": {},
   "outputs": [],
   "source": [
    "# Loading clynitics complaints data\n",
    "comp=pd.read_csv('complaints.csv')\n",
    "\n",
    "# Concate clynitcs data and EMR data by the help of append \n",
    "complaint_final= comp.append(df,ignore_index=True)\n",
    "#complaint_final.head(2)\n",
    "#removing useless columns\n",
    "complaint_final.drop(columns={'created_at','updated_at','par','level1','id.1','account_id.1'},inplace=True,axis=1)\n",
    "# sending file to csv\n",
    "complaint_final.to_csv('complaints_cont_EMR2.csv',index=False)"
   ]
  },
  {
   "cell_type": "markdown",
   "id": "4687af0b",
   "metadata": {},
   "source": [
    "## nlab data"
   ]
  },
  {
   "cell_type": "code",
   "execution_count": 10,
   "id": "57e31b8a",
   "metadata": {},
   "outputs": [],
   "source": [
    "# Loading EMR Nlab data\n",
    "nlab=pd.read_csv('nalb_raw.csv')\n",
    "\n",
    "# Copy the data\n",
    "nlab1=nlab.copy()\n",
    "\n",
    "# renaming the columns name \n",
    "nlab1.rename(columns={'investigation_date':'result_date','source':'account_id'},inplace=True)\n",
    "\n",
    "# adding columns name to nlab1\n",
    "nlab1['prescription_id']=\"\"\n",
    "nlab1['name']=\"\"\n",
    "nlab1['remark']=\"\"\n",
    "nlab1['doctor_id']=\"\"\n",
    "#nlab1['account_id']=\"\"\n",
    "#nlab1['created_at']=\"\"\n",
    "#nlab1['updated_at']=\"\"\n",
    "#nlab1['par']=\"\"\n",
    "#nlab1['level1']=\"\"\n",
    "\n",
    "#droping the useless columns\n",
    "nlab1.drop(['gender','age','ids','new_name'],axis=1,inplace=True)\n"
   ]
  },
  {
   "cell_type": "code",
   "execution_count": 12,
   "id": "14ccc3d5",
   "metadata": {},
   "outputs": [],
   "source": [
    "# Loading clynitics examination data\n",
    "exam= pd.read_csv('examination.csv')\n",
    "\n",
    "# Concat clynitcs examination data and EMR nlab data by the help of append \n",
    "examination_final= exam.append(nlab1,ignore_index=True)\n",
    "#examination_final.head(2)\n",
    "\n",
    "#removing useless columns\n",
    "examination_final.drop(columns={'created_at','updated_at','par','level1','id.1','account_id.1'},inplace=True,axis=1)\n",
    "# sending file in csv\n",
    "examination_final.to_csv('examination_cont_EMR2.csv',index=False)"
   ]
  },
  {
   "cell_type": "markdown",
   "id": "47fb5d30",
   "metadata": {},
   "source": [
    "## Patient data"
   ]
  },
  {
   "cell_type": "code",
   "execution_count": 13,
   "id": "b794ff4d",
   "metadata": {},
   "outputs": [],
   "source": [
    "# Loading patient EMR data\n",
    "patient=pd.read_csv('patient_raw.csv',encoding=\"ISO-8859-1\")\n",
    "\n",
    "# Copy the data\n",
    "patient1=patient.copy()\n",
    "\n",
    "# renaming the columns name \n",
    "patient1.rename(columns={'yob':'year_of_birth','source':'account_id','state.x':'state'},inplace=True)\n",
    "\n",
    "# adding columns name to nlab1\n",
    "patient1['patient_hid']=\"\"\n",
    "#patient1['account_id']=\"\"\n",
    "#patient1['created_at']=\"\"\n",
    "#patient1['updated_at']=\"\"\n",
    "#patient1['par']=\"\"\n",
    "patient1['country_code']=\"\"\n",
    "\n",
    "#droping the useless columns\n",
    "patient1.drop(['city','city_right','state.y','population','lat','lng','year_diabetes_diagnosis'],axis=1,inplace=True)\n"
   ]
  },
  {
   "cell_type": "code",
   "execution_count": 14,
   "id": "cd6aaff3",
   "metadata": {},
   "outputs": [],
   "source": [
    "# Loading clynitics patients data\n",
    "patient= pd.read_csv('patient.csv')\n",
    "\n",
    "# Concat clynitcs patient data and EMR patient_all data by the help of append \n",
    "patient_final= patient.append(patient1,ignore_index=True)\n",
    "#patient_final.head(2)\n",
    "#removing useless columns\n",
    "patient_final.drop(columns={'created_at','updated_at','par'},inplace=True,axis=1)\n",
    "\n",
    "# sending file in csv\n",
    "patient_final.to_csv('patient_cont_EMR2.csv',index=False)"
   ]
  },
  {
   "cell_type": "markdown",
   "id": "08cdc849",
   "metadata": {},
   "source": [
    " ## Prescription data"
   ]
  },
  {
   "cell_type": "code",
   "execution_count": 34,
   "id": "d51bff17",
   "metadata": {},
   "outputs": [],
   "source": [
    "# Loading the prescription EMR data\n",
    "prescription=pd.read_csv('prescription_raw.csv',encoding=\"ISO-8859-1\")\n",
    "\n",
    "# Making copy of data\n",
    "pres=prescription.copy()\n",
    "\n",
    "# # renaming the columns name \n",
    "pres.rename(columns={'formulation':'drugtype','frequency_id':'frequency','doctor_name':'doctor_id','source':'account_id',\n",
    "                     'clean_brand':'drug_final','created_date':'booking_date','drug_name':'raw_drug_name'},inplace=True)\n",
    "\n",
    "# Adding the columns name\n",
    "#pres['account_id']=\"\"\n",
    "pres['drug_id']=\"\"\n",
    "pres['duration']=\"\"\n",
    "pres['drug_id']=\"\"\n",
    "pres['dosage']=\"\"\n",
    "pres['remark']=\"\"\n",
    "pres['prescription_id']=\"\"\n",
    "pres['brand']=\"\"\n",
    "pres['inference']=\"\"\n",
    "pres['enddate']=\"\"\n",
    "pres['cycle']=\"\"\n",
    "pres['normalized_value']=\"\"\n",
    "#pres['probable_value']=\"\"\n",
    "#pres['level1']=\"\"\n",
    "\n",
    "# droping useless columns\n",
    "pres.drop(['final_drug','cleared_drug','drug_name_mod','dosage_id','comment_dosages','dosage_num','Qualification','city',\n",
    "           'Doctor_Speciality','RSSDI','merged_drug','purpose','purpose specific','company','parent brand','severity status',\n",
    "           'duplicate','moa','drug class','class','composition','composition_class','classes','mols','drugs',\n",
    "           'ids'],axis=1,inplace=True)\n"
   ]
  },
  {
   "cell_type": "code",
   "execution_count": 35,
   "id": "d04a7966",
   "metadata": {},
   "outputs": [],
   "source": [
    "# Loading clynitics patients data\n",
    "prescriptions= pd.read_csv('drugs.csv')\n",
    "#renaming the columns name \n",
    "prescriptions.rename(columns={'value':'raw_drug_name','probable_value':'drug_final','result_date':'booking_date'},inplace=True)\n",
    "\n",
    "# Concate clynitcs prescriptions data and EMR pres data by the help of append \n",
    "prescriptions_final= prescriptions.append(pres,ignore_index=True)\n",
    "#prescriptions_final.head(2)\n",
    "#removing useless columns\n",
    "prescriptions_final.drop(columns={'created_at','updated_at','par','level1','id.1','id.2','account_id.1','created_at.1',\n",
    "                                  'updated_at.1'},inplace=True,axis=1)\n",
    "\n",
    "#sending file in csv\n",
    "prescriptions_final.to_csv('prescription_cont_EMR2.csv',index=False)"
   ]
  },
  {
   "cell_type": "code",
   "execution_count": null,
   "id": "95014636",
   "metadata": {},
   "outputs": [],
   "source": []
  },
  {
   "cell_type": "code",
   "execution_count": null,
   "id": "3707b935",
   "metadata": {},
   "outputs": [],
   "source": []
  },
  {
   "cell_type": "code",
   "execution_count": null,
   "id": "12a398e5",
   "metadata": {},
   "outputs": [],
   "source": []
  }
 ],
 "metadata": {
  "kernelspec": {
   "display_name": "Python 3 (ipykernel)",
   "language": "python",
   "name": "python3"
  },
  "language_info": {
   "codemirror_mode": {
    "name": "ipython",
    "version": 3
   },
   "file_extension": ".py",
   "mimetype": "text/x-python",
   "name": "python",
   "nbconvert_exporter": "python",
   "pygments_lexer": "ipython3",
   "version": "3.9.7"
  }
 },
 "nbformat": 4,
 "nbformat_minor": 5
}
